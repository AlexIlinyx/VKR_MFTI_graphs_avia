{
 "cells": [
  {
   "cell_type": "markdown",
   "metadata": {},
   "source": [
    "#### **Импорт библиотек**"
   ]
  },
  {
   "cell_type": "code",
   "execution_count": 1,
   "metadata": {},
   "outputs": [],
   "source": [
    "from selenium import webdriver\n",
    "from selenium.webdriver.chrome.service import Service\n",
    "from selenium.webdriver.common.by import By\n",
    "from webdriver_manager.chrome import ChromeDriverManager\n",
    "from selenium.webdriver.chrome.options import Options\n",
    "import os\n",
    "import time\n",
    "import logging\n",
    "import re\n"
   ]
  },
  {
   "cell_type": "markdown",
   "metadata": {},
   "source": [
    "#### **Определение класса для скачивание файлов pdf с единичной страницы html**\n"
   ]
  },
  {
   "cell_type": "code",
   "execution_count": 2,
   "metadata": {},
   "outputs": [],
   "source": [
    "class PDFDownloader:\n",
    "    def __init__(self, link_page, download_directory):\n",
    "        self.link_page = link_page # Задание адреса страницы\n",
    "        self.download_directory = download_directory # Задание каталога загрузки\n",
    "        self.setup_logging() # Настройка логирования\n",
    "        self.driver = self.setup_driver() # Инициализация драйвера Chrome\n",
    "        self.link_selector = 'a[href$=\".pdf\"], a[href$=\".docx\"]'  # Селектор для поиска ссылок на файлы\n",
    "\n",
    "            \n",
    "    def setup_logging(self): # Настройка логирования для сохранения в файл\n",
    "        # Убедимся, что root_logger не имеет других обработчиков\n",
    "        for handler in logging.root.handlers[:]:\n",
    "            logging.root.removeHandler(handler)\n",
    "        logging.basicConfig(level=logging.INFO)\n",
    "        self.logger = logging.getLogger()\n",
    "        file_handler = logging.FileHandler('download_log.log', mode='a')  # 'a' для добавления (append)\n",
    "        formatter = logging.Formatter('%(asctime)s - %(levelname)s - %(message)s')\n",
    "        file_handler.setFormatter(formatter)\n",
    "        self.logger.addHandler(file_handler)  # Добавление обработчика логирования\n",
    "\n",
    "    \n",
    "    def setup_driver(self):\n",
    "        chrome_options = Options() # Создание объекта Options для настройки параметров браузера Chrome\n",
    "        #chrome_options.add_argument(\"--no-sandbox\") # Отключение режима песочницы для повышения производительности при работе в контейнерах\n",
    "        #chrome_options.add_argument(\"--disable-dev-shm-usage\")  # Отключение использования общей памяти (shm), что помогает избежать ошибок в контейнерах\n",
    "        chrome_options.add_argument(\"--disable-gpu\") # Отключение аппаратного ускорения для графики, что может улучшить совместимость\n",
    "        chrome_options.add_argument(\"--window-size=1920,1080\") # Установка размера окна браузера\n",
    "        chrome_options.add_experimental_option('prefs', {\n",
    "            \"download.default_directory\": self.download_directory, # Установка пути к директории, в которую будут загружаться файлы\n",
    "            \"download.prompt_for_download\": False, # Отключение диалогового окна запроса на загрузку файлов\n",
    "            \"download.directory_upgrade\": True, # Разрешение на обновление пути к директории загрузки\n",
    "            \"plugins.always_open_pdf_externally\": True # Автоматическая загрузка PDF-файлов без предварительного просмотра в браузере\n",
    "        })\n",
    "        # chrome_options.add_argument(\"--headless\")  # Запуска Chrome без GUI\n",
    "        return webdriver.Chrome(service=Service(ChromeDriverManager().install()), options=chrome_options)\n",
    "    \n",
    "\n",
    "    # Функция проверки наличия незавершенных закачек в папке скачивания        \n",
    "    def download_complete(self, timeout=30):\n",
    "        \"\"\"Ожидает окончания загрузки всех файлов в папке загрузок, прерывается после заданного таймаута.\"\"\"\n",
    "        start_time = time.time()\n",
    "        while True:\n",
    "            if all(not (filename.endswith(\".crdownload\") or filename.endswith(\".tmp\")) for filename in os.listdir(self.download_directory)):\n",
    "                break # выход из цикла, если нет временных файлов \n",
    "            time.sleep(1) # увеличение времени ожидания между проверками\n",
    "            elapsed_time = time.time() - start_time\n",
    "            if elapsed_time > timeout:\n",
    "                self.logger.warning(\"Timeout reached while waiting for downloads to finish.\")\n",
    "                break\n",
    "\n",
    "    \n",
    "    # Функция проверяет наличие файла с учётом возможных суффиксов, используя регулярные выражения:\n",
    "    def file_exists(self, filename):\n",
    "        \"\"\" Проверяем, существует ли файл с этим именем (учитывая возможные суффиксы). \"\"\"\n",
    "        base_name, ext = os.path.splitext(filename)\n",
    "        pattern = re.compile(re.escape(base_name) + r'(\\(\\d+\\))?' + re.escape(ext) + r'$')\n",
    "        for file in os.listdir(self.download_directory):\n",
    "            if pattern.match(file):\n",
    "                return True\n",
    "        return False\n",
    "\n",
    "\n",
    "    # Функция удаляет временные файлы из папки загрузки \n",
    "    def clean_up_temp_files(self):\n",
    "        for file in os.listdir(self.download_directory):\n",
    "            if file.endswith(\".tmp\"):\n",
    "                try:\n",
    "                    os.remove(os.path.join(self.download_directory, file))\n",
    "                    self.logger.info(f\"Temporary file .tmp {file} removed.\")\n",
    "                except Exception as e:\n",
    "                    self.logger.error(f\"Failed to remove .tmp {file}: {e}\")\n",
    "        for file in os.listdir(self.download_directory):\n",
    "            if file.endswith(\".crdownload\"):\n",
    "                try:\n",
    "                    os.remove(os.path.join(self.download_directory, file))\n",
    "                    self.logger.info(f\"Temporary file .crdownload {file} removed.\")\n",
    "                except Exception as e:\n",
    "                    self.logger.error(f\"Failed to remove .crdownload {file}: {e}\")\n",
    "                    \n",
    "        \n",
    "    def download_files(self):\n",
    "        \"\"\"Загружает файлы с веб-страницы.\"\"\"\n",
    "        try:\n",
    "            self.driver.get(self.link_page)  # Загрузка веб-страницы\n",
    "            links = [link.get_attribute('href') for link in self.driver.find_elements(By.CSS_SELECTOR, 'a[href$=\".pdf\"], a[href$=\".docx\"]')] # получение полных ссылок скачиваемых файлов\n",
    "            self.logger.info(f\"Page loaded, number of files to download: {len(links)} PS.\")\n",
    "            for href in links:\n",
    "                pdf_name = href.split('/')[-1]\n",
    "                if not self.file_exists(pdf_name): # при отсутствии дубликатов файлов происходит скачивание\n",
    "                    self.driver.get(href)\n",
    "                    self.download_complete()\n",
    "                    self.logger.info(f'Downloaded: {pdf_name}')\n",
    "                else:   # при наличии дубликатов сохраняет в лог что файл уже скачан\n",
    "                    self.logger.info(f'Already downloaded: {pdf_name}')\n",
    "        except Exception as e:\n",
    "            self.logger.error(f'Error during downloading: {e}')\n",
    "            self.clean_up_temp_files()\n",
    "        finally:\n",
    "            self.driver.quit()\n",
    "            self.clean_up_temp_files()\n",
    "            self.logger.info('Driver closed.')\n",
    "    \n",
    "\n",
    "    \n",
    "    # Закрытие и удаление обработчика\n",
    "    def __del__(self):\n",
    "        \"\"\"Закрытие и удаление ресурсов перед уничтожением объекта.\"\"\"\n",
    "        self.driver.quit()\n",
    "        for handler in self.logger.handlers[:]:\n",
    "            handler.close()\n",
    "            self.logger.removeHandler(handler)\n"
   ]
  },
  {
   "cell_type": "markdown",
   "metadata": {},
   "source": [
    "#### **Скачивание файлов pdf со страницы**"
   ]
  },
  {
   "cell_type": "code",
   "execution_count": 3,
   "metadata": {},
   "outputs": [
    {
     "name": "stderr",
     "output_type": "stream",
     "text": [
      "INFO:WDM:====== WebDriver manager ======\n"
     ]
    },
    {
     "name": "stdout",
     "output_type": "stream",
     "text": [
      "Downloading from: https://files.stroyinf.ru/cat0/205-0.htm\n"
     ]
    },
    {
     "name": "stderr",
     "output_type": "stream",
     "text": [
      "INFO:WDM:Get LATEST chromedriver version for google-chrome\n",
      "INFO:WDM:Get LATEST chromedriver version for google-chrome\n",
      "INFO:WDM:Driver [C:\\Users\\User\\.wdm\\drivers\\chromedriver\\win64\\124.0.6367.91\\chromedriver-win32/chromedriver.exe] found in cache\n",
      "INFO:root:Page loaded, number of files to download: 10 PS.\n",
      "INFO:root:Already downloaded: 51176.pdf\n",
      "INFO:root:Already downloaded: 51247.pdf\n",
      "INFO:root:Already downloaded: 51254.pdf\n",
      "INFO:root:Already downloaded: 51442.pdf\n",
      "INFO:root:Already downloaded: 51415.pdf\n",
      "INFO:root:Already downloaded: 51413.pdf\n",
      "INFO:root:Already downloaded: 51411.pdf\n",
      "INFO:root:Already downloaded: 53549.pdf\n",
      "INFO:root:Already downloaded: 53547.pdf\n",
      "INFO:root:Already downloaded: 53544.pdf\n",
      "INFO:root:Driver closed.\n"
     ]
    },
    {
     "name": "stdout",
     "output_type": "stream",
     "text": [
      "Download complete for:  https://files.stroyinf.ru/cat0/205-0.htm\n"
     ]
    },
    {
     "name": "stderr",
     "output_type": "stream",
     "text": [
      "WARNING:urllib3.connectionpool:Retrying (Retry(total=2, connect=None, read=None, redirect=None, status=None)) after connection broken by 'NewConnectionError('<urllib3.connection.HTTPConnection object at 0x000001C4B4DA2C50>: Failed to establish a new connection: [WinError 10061] Подключение не установлено, т.к. конечный компьютер отверг запрос на подключение')': /session/9ba0efb95d96e91d7e2c58d4b9c7bb66\n",
      "WARNING:urllib3.connectionpool:Retrying (Retry(total=1, connect=None, read=None, redirect=None, status=None)) after connection broken by 'NewConnectionError('<urllib3.connection.HTTPConnection object at 0x000001C4B51C8310>: Failed to establish a new connection: [WinError 10061] Подключение не установлено, т.к. конечный компьютер отверг запрос на подключение')': /session/9ba0efb95d96e91d7e2c58d4b9c7bb66\n",
      "WARNING:urllib3.connectionpool:Retrying (Retry(total=0, connect=None, read=None, redirect=None, status=None)) after connection broken by 'NewConnectionError('<urllib3.connection.HTTPConnection object at 0x000001C4B51F4F90>: Failed to establish a new connection: [WinError 10061] Подключение не установлено, т.к. конечный компьютер отверг запрос на подключение')': /session/9ba0efb95d96e91d7e2c58d4b9c7bb66\n",
      "INFO:WDM:====== WebDriver manager ======\n"
     ]
    },
    {
     "name": "stdout",
     "output_type": "stream",
     "text": [
      "Driver closed for cleanup.\n",
      "Downloading from: https://files.stroyinf.ru/cat0/205-1.htm\n"
     ]
    },
    {
     "name": "stderr",
     "output_type": "stream",
     "text": [
      "INFO:WDM:Get LATEST chromedriver version for google-chrome\n",
      "INFO:WDM:Get LATEST chromedriver version for google-chrome\n",
      "INFO:WDM:Driver [C:\\Users\\User\\.wdm\\drivers\\chromedriver\\win64\\124.0.6367.91\\chromedriver-win32/chromedriver.exe] found in cache\n",
      "WARNING:urllib3.connectionpool:Retrying (Retry(total=2, connect=None, read=None, redirect=None, status=None)) after connection broken by 'NewConnectionError('<urllib3.connection.HTTPConnection object at 0x000001C4B521D190>: Failed to establish a new connection: [WinError 10061] Подключение не установлено, т.к. конечный компьютер отверг запрос на подключение')': /session/9ba0efb95d96e91d7e2c58d4b9c7bb66\n",
      "WARNING:urllib3.connectionpool:Retrying (Retry(total=1, connect=None, read=None, redirect=None, status=None)) after connection broken by 'NewConnectionError('<urllib3.connection.HTTPConnection object at 0x000001C4B521F890>: Failed to establish a new connection: [WinError 10061] Подключение не установлено, т.к. конечный компьютер отверг запрос на подключение')': /session/9ba0efb95d96e91d7e2c58d4b9c7bb66\n",
      "WARNING:urllib3.connectionpool:Retrying (Retry(total=0, connect=None, read=None, redirect=None, status=None)) after connection broken by 'NewConnectionError('<urllib3.connection.HTTPConnection object at 0x000001C4B521E210>: Failed to establish a new connection: [WinError 10061] Подключение не установлено, т.к. конечный компьютер отверг запрос на подключение')': /session/9ba0efb95d96e91d7e2c58d4b9c7bb66\n"
     ]
    },
    {
     "name": "stdout",
     "output_type": "stream",
     "text": [
      "Download complete for:  https://files.stroyinf.ru/cat0/205-1.htm\n"
     ]
    },
    {
     "name": "stderr",
     "output_type": "stream",
     "text": [
      "INFO:WDM:====== WebDriver manager ======\n"
     ]
    },
    {
     "name": "stdout",
     "output_type": "stream",
     "text": [
      "Driver closed for cleanup.\n",
      "Downloading from: https://files.stroyinf.ru/cat0/205-2.htm\n"
     ]
    },
    {
     "name": "stderr",
     "output_type": "stream",
     "text": [
      "INFO:WDM:Get LATEST chromedriver version for google-chrome\n",
      "INFO:WDM:Get LATEST chromedriver version for google-chrome\n",
      "INFO:WDM:Driver [C:\\Users\\User\\.wdm\\drivers\\chromedriver\\win64\\124.0.6367.91\\chromedriver-win32/chromedriver.exe] found in cache\n",
      "WARNING:urllib3.connectionpool:Retrying (Retry(total=2, connect=None, read=None, redirect=None, status=None)) after connection broken by 'NewConnectionError('<urllib3.connection.HTTPConnection object at 0x000001C4B51EA050>: Failed to establish a new connection: [WinError 10061] Подключение не установлено, т.к. конечный компьютер отверг запрос на подключение')': /session/c5a5169c54d4dd49a471241499160036\n",
      "WARNING:urllib3.connectionpool:Retrying (Retry(total=1, connect=None, read=None, redirect=None, status=None)) after connection broken by 'NewConnectionError('<urllib3.connection.HTTPConnection object at 0x000001C4B51EA850>: Failed to establish a new connection: [WinError 10061] Подключение не установлено, т.к. конечный компьютер отверг запрос на подключение')': /session/c5a5169c54d4dd49a471241499160036\n",
      "WARNING:urllib3.connectionpool:Retrying (Retry(total=0, connect=None, read=None, redirect=None, status=None)) after connection broken by 'NewConnectionError('<urllib3.connection.HTTPConnection object at 0x000001C4B51F7810>: Failed to establish a new connection: [WinError 10061] Подключение не установлено, т.к. конечный компьютер отверг запрос на подключение')': /session/c5a5169c54d4dd49a471241499160036\n"
     ]
    },
    {
     "name": "stdout",
     "output_type": "stream",
     "text": [
      "Download complete for:  https://files.stroyinf.ru/cat0/205-2.htm\n"
     ]
    },
    {
     "name": "stderr",
     "output_type": "stream",
     "text": [
      "INFO:WDM:====== WebDriver manager ======\n"
     ]
    },
    {
     "name": "stdout",
     "output_type": "stream",
     "text": [
      "Driver closed for cleanup.\n",
      "Downloading from: https://files.stroyinf.ru/cat0/205-3.htm\n"
     ]
    },
    {
     "name": "stderr",
     "output_type": "stream",
     "text": [
      "INFO:WDM:Get LATEST chromedriver version for google-chrome\n",
      "INFO:WDM:Get LATEST chromedriver version for google-chrome\n",
      "INFO:WDM:Driver [C:\\Users\\User\\.wdm\\drivers\\chromedriver\\win64\\124.0.6367.91\\chromedriver-win32/chromedriver.exe] found in cache\n",
      "WARNING:urllib3.connectionpool:Retrying (Retry(total=2, connect=None, read=None, redirect=None, status=None)) after connection broken by 'NewConnectionError('<urllib3.connection.HTTPConnection object at 0x000001C4B51F7750>: Failed to establish a new connection: [WinError 10061] Подключение не установлено, т.к. конечный компьютер отверг запрос на подключение')': /session/492b9e72b9342d267779af24a24d8820\n",
      "WARNING:urllib3.connectionpool:Retrying (Retry(total=1, connect=None, read=None, redirect=None, status=None)) after connection broken by 'NewConnectionError('<urllib3.connection.HTTPConnection object at 0x000001C4B4C14610>: Failed to establish a new connection: [WinError 10061] Подключение не установлено, т.к. конечный компьютер отверг запрос на подключение')': /session/492b9e72b9342d267779af24a24d8820\n",
      "WARNING:urllib3.connectionpool:Retrying (Retry(total=0, connect=None, read=None, redirect=None, status=None)) after connection broken by 'NewConnectionError('<urllib3.connection.HTTPConnection object at 0x000001C4B51DFD90>: Failed to establish a new connection: [WinError 10061] Подключение не установлено, т.к. конечный компьютер отверг запрос на подключение')': /session/492b9e72b9342d267779af24a24d8820\n"
     ]
    },
    {
     "name": "stdout",
     "output_type": "stream",
     "text": [
      "Download complete for:  https://files.stroyinf.ru/cat0/205-3.htm\n"
     ]
    },
    {
     "name": "stderr",
     "output_type": "stream",
     "text": [
      "INFO:WDM:====== WebDriver manager ======\n"
     ]
    },
    {
     "name": "stdout",
     "output_type": "stream",
     "text": [
      "Driver closed for cleanup.\n",
      "Downloading from: https://files.stroyinf.ru/cat0/205-4.htm\n"
     ]
    },
    {
     "name": "stderr",
     "output_type": "stream",
     "text": [
      "INFO:WDM:Get LATEST chromedriver version for google-chrome\n",
      "INFO:WDM:Get LATEST chromedriver version for google-chrome\n",
      "INFO:WDM:Driver [C:\\Users\\User\\.wdm\\drivers\\chromedriver\\win64\\124.0.6367.91\\chromedriver-win32/chromedriver.exe] found in cache\n",
      "WARNING:urllib3.connectionpool:Retrying (Retry(total=2, connect=None, read=None, redirect=None, status=None)) after connection broken by 'NewConnectionError('<urllib3.connection.HTTPConnection object at 0x000001C4B521E350>: Failed to establish a new connection: [WinError 10061] Подключение не установлено, т.к. конечный компьютер отверг запрос на подключение')': /session/1db0719ae0164d28b2390988bee2b562\n",
      "WARNING:urllib3.connectionpool:Retrying (Retry(total=1, connect=None, read=None, redirect=None, status=None)) after connection broken by 'NewConnectionError('<urllib3.connection.HTTPConnection object at 0x000001C4B521F090>: Failed to establish a new connection: [WinError 10061] Подключение не установлено, т.к. конечный компьютер отверг запрос на подключение')': /session/1db0719ae0164d28b2390988bee2b562\n",
      "WARNING:urllib3.connectionpool:Retrying (Retry(total=0, connect=None, read=None, redirect=None, status=None)) after connection broken by 'NewConnectionError('<urllib3.connection.HTTPConnection object at 0x000001C4B521C690>: Failed to establish a new connection: [WinError 10061] Подключение не установлено, т.к. конечный компьютер отверг запрос на подключение')': /session/1db0719ae0164d28b2390988bee2b562\n"
     ]
    },
    {
     "name": "stdout",
     "output_type": "stream",
     "text": [
      "Download complete for:  https://files.stroyinf.ru/cat0/205-4.htm\n"
     ]
    },
    {
     "name": "stderr",
     "output_type": "stream",
     "text": [
      "INFO:WDM:====== WebDriver manager ======\n"
     ]
    },
    {
     "name": "stdout",
     "output_type": "stream",
     "text": [
      "Driver closed for cleanup.\n",
      "Downloading from: https://files.stroyinf.ru/cat0/205-5.htm\n"
     ]
    },
    {
     "name": "stderr",
     "output_type": "stream",
     "text": [
      "INFO:WDM:Get LATEST chromedriver version for google-chrome\n",
      "INFO:WDM:Get LATEST chromedriver version for google-chrome\n",
      "INFO:WDM:Driver [C:\\Users\\User\\.wdm\\drivers\\chromedriver\\win64\\124.0.6367.91\\chromedriver-win32/chromedriver.exe] found in cache\n",
      "WARNING:urllib3.connectionpool:Retrying (Retry(total=2, connect=None, read=None, redirect=None, status=None)) after connection broken by 'NewConnectionError('<urllib3.connection.HTTPConnection object at 0x000001C4B5202890>: Failed to establish a new connection: [WinError 10061] Подключение не установлено, т.к. конечный компьютер отверг запрос на подключение')': /session/cd2068168c3b92435913d90b08641e07\n",
      "WARNING:urllib3.connectionpool:Retrying (Retry(total=1, connect=None, read=None, redirect=None, status=None)) after connection broken by 'NewConnectionError('<urllib3.connection.HTTPConnection object at 0x000001C4B5203850>: Failed to establish a new connection: [WinError 10061] Подключение не установлено, т.к. конечный компьютер отверг запрос на подключение')': /session/cd2068168c3b92435913d90b08641e07\n",
      "WARNING:urllib3.connectionpool:Retrying (Retry(total=0, connect=None, read=None, redirect=None, status=None)) after connection broken by 'NewConnectionError('<urllib3.connection.HTTPConnection object at 0x000001C4B5200990>: Failed to establish a new connection: [WinError 10061] Подключение не установлено, т.к. конечный компьютер отверг запрос на подключение')': /session/cd2068168c3b92435913d90b08641e07\n"
     ]
    },
    {
     "name": "stdout",
     "output_type": "stream",
     "text": [
      "Download complete for:  https://files.stroyinf.ru/cat0/205-5.htm\n"
     ]
    },
    {
     "name": "stderr",
     "output_type": "stream",
     "text": [
      "INFO:WDM:====== WebDriver manager ======\n"
     ]
    },
    {
     "name": "stdout",
     "output_type": "stream",
     "text": [
      "Driver closed for cleanup.\n",
      "Downloading from: https://files.stroyinf.ru/cat0/205-6.htm\n"
     ]
    },
    {
     "name": "stderr",
     "output_type": "stream",
     "text": [
      "INFO:WDM:Get LATEST chromedriver version for google-chrome\n",
      "INFO:WDM:Get LATEST chromedriver version for google-chrome\n",
      "INFO:WDM:Driver [C:\\Users\\User\\.wdm\\drivers\\chromedriver\\win64\\124.0.6367.91\\chromedriver-win32/chromedriver.exe] found in cache\n",
      "WARNING:urllib3.connectionpool:Retrying (Retry(total=2, connect=None, read=None, redirect=None, status=None)) after connection broken by 'NewConnectionError('<urllib3.connection.HTTPConnection object at 0x000001C4B522D290>: Failed to establish a new connection: [WinError 10061] Подключение не установлено, т.к. конечный компьютер отверг запрос на подключение')': /session/58e82402cd67da99355fd1e816ecc8a1\n",
      "WARNING:urllib3.connectionpool:Retrying (Retry(total=1, connect=None, read=None, redirect=None, status=None)) after connection broken by 'NewConnectionError('<urllib3.connection.HTTPConnection object at 0x000001C4B522F850>: Failed to establish a new connection: [WinError 10061] Подключение не установлено, т.к. конечный компьютер отверг запрос на подключение')': /session/58e82402cd67da99355fd1e816ecc8a1\n",
      "WARNING:urllib3.connectionpool:Retrying (Retry(total=0, connect=None, read=None, redirect=None, status=None)) after connection broken by 'NewConnectionError('<urllib3.connection.HTTPConnection object at 0x000001C4B522E110>: Failed to establish a new connection: [WinError 10061] Подключение не установлено, т.к. конечный компьютер отверг запрос на подключение')': /session/58e82402cd67da99355fd1e816ecc8a1\n"
     ]
    },
    {
     "name": "stdout",
     "output_type": "stream",
     "text": [
      "Download complete for:  https://files.stroyinf.ru/cat0/205-6.htm\n"
     ]
    },
    {
     "name": "stderr",
     "output_type": "stream",
     "text": [
      "INFO:WDM:====== WebDriver manager ======\n"
     ]
    },
    {
     "name": "stdout",
     "output_type": "stream",
     "text": [
      "Driver closed for cleanup.\n",
      "Downloading from: https://files.stroyinf.ru/cat0/205-7.htm\n"
     ]
    },
    {
     "name": "stderr",
     "output_type": "stream",
     "text": [
      "INFO:WDM:Get LATEST chromedriver version for google-chrome\n",
      "INFO:WDM:Get LATEST chromedriver version for google-chrome\n",
      "INFO:WDM:Driver [C:\\Users\\User\\.wdm\\drivers\\chromedriver\\win64\\124.0.6367.91\\chromedriver-win32/chromedriver.exe] found in cache\n",
      "WARNING:urllib3.connectionpool:Retrying (Retry(total=2, connect=None, read=None, redirect=None, status=None)) after connection broken by 'NewConnectionError('<urllib3.connection.HTTPConnection object at 0x000001C4B521DC10>: Failed to establish a new connection: [WinError 10061] Подключение не установлено, т.к. конечный компьютер отверг запрос на подключение')': /session/6f83aa57426226f0e05018c36b654e78\n",
      "WARNING:urllib3.connectionpool:Retrying (Retry(total=1, connect=None, read=None, redirect=None, status=None)) after connection broken by 'NewConnectionError('<urllib3.connection.HTTPConnection object at 0x000001C4B521CE90>: Failed to establish a new connection: [WinError 10061] Подключение не установлено, т.к. конечный компьютер отверг запрос на подключение')': /session/6f83aa57426226f0e05018c36b654e78\n",
      "WARNING:urllib3.connectionpool:Retrying (Retry(total=0, connect=None, read=None, redirect=None, status=None)) after connection broken by 'NewConnectionError('<urllib3.connection.HTTPConnection object at 0x000001C4B520BE10>: Failed to establish a new connection: [WinError 10061] Подключение не установлено, т.к. конечный компьютер отверг запрос на подключение')': /session/6f83aa57426226f0e05018c36b654e78\n",
      "Timeout reached while waiting for downloads to finish.\n"
     ]
    },
    {
     "name": "stdout",
     "output_type": "stream",
     "text": [
      "Download complete for:  https://files.stroyinf.ru/cat0/205-7.htm\n",
      "Driver closed for cleanup.\n"
     ]
    }
   ],
   "source": [
    "# Example usage:\n",
    "# if __name__ == '__main__':\n",
    "#    downloader = PDFDownloader('https://files.stroyinf.ru/cat0/205-1.htm', r\"C:\\Users\\User\\Documents\\MFTI_VKR\\__parsing\\1\")\n",
    "#    downloader.download_files()\n",
    "    \n",
    "if __name__ == '__main__':\n",
    "    base_url = \"https://files.stroyinf.ru/cat0/205-{}.htm\"\n",
    "    download_directory = r\"C:\\Users\\User\\Documents\\MFTI_VKR\\__parsing\\1\"\n",
    "    for i in range(8):  # От 0 до 7 включительно\n",
    "        url = base_url.format(i)  # Формирование URL для каждой страницы\n",
    "        print(f\"Downloading from: {url}\")  # Опционально: вывод информации о текущей странице\n",
    "        downloader = PDFDownloader(url, download_directory)\n",
    "        downloader.download_files()\n",
    "        print(\"Download complete for: \", url)  # Опционально: подтверждение завершения загрузки\n",
    "\n",
    "        # Опционально: Очистка или перезапуск драйвера, если необходимо\n",
    "        # Это может быть полезно, если в процессе работы драйвера возникают утечки памяти или другие проблемы\n",
    "        # Некоторые приложения могут требовать перезапуск драйвера для освобождения ресурсов\n",
    "        downloader.driver.quit()  # Закрытие драйвера\n",
    "        print(\"Driver closed for cleanup.\")  # Опционально: информация о закрытии драйвера\n",
    "\n"
   ]
  }
 ],
 "metadata": {
  "kernelspec": {
   "display_name": "Python 3",
   "language": "python",
   "name": "python3"
  },
  "language_info": {
   "codemirror_mode": {
    "name": "ipython",
    "version": 3
   },
   "file_extension": ".py",
   "mimetype": "text/x-python",
   "name": "python",
   "nbconvert_exporter": "python",
   "pygments_lexer": "ipython3",
   "version": "3.11.5"
  }
 },
 "nbformat": 4,
 "nbformat_minor": 2
}
